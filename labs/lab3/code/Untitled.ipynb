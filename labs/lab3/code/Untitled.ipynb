{
 "cells": [
  {
   "cell_type": "code",
   "execution_count": 7,
   "id": "7ff6967f-f520-4bb3-98c9-c2c4677d354c",
   "metadata": {},
   "outputs": [
    {
     "data": {
      "text/plain": [
       "encrypt (generic function with 1 method)"
      ]
     },
     "execution_count": 7,
     "metadata": {},
     "output_type": "execute_result"
    }
   ],
   "source": [
    "ALPHABET = collect(\"АБВГДЕЖЗИЙКЛМНОПРСТУФХЦЧШЩЪЫЬЭЮЯ\")\n",
    "function encrypt(text, key)\n",
    "    filtered = [c for c in uppercase(text) if c in ALPHABET]\n",
    "    key_chars = collect(uppercase(key))\n",
    "    \n",
    "    result = \"\"\n",
    "    \n",
    "    for i in 1:length(filtered)\n",
    "        p_num = findfirst(==(filtered[i]), ALPHABET)\n",
    "        k_num = findfirst(==(key_chars[(i-1) % length(key_chars) + 1]), ALPHABET)\n",
    "        \n",
    "        c_num = (p_num + k_num) % 33\n",
    "        if c_num == 0\n",
    "            c_num = 33\n",
    "        end\n",
    "        \n",
    "        result *= ALPHABET[c_num]\n",
    "    end\n",
    "    \n",
    "    return result\n",
    "end"
   ]
  },
  {
   "cell_type": "code",
   "execution_count": 15,
   "id": "6e4d37fb-293e-4662-8c3e-b468546bd123",
   "metadata": {},
   "outputs": [
    {
     "name": "stdout",
     "output_type": "stream",
     "text": [
      "Текст:ПРИКАЗ\n",
      "Ключ:ГАММА\n",
      "Криптограмма:УСХЧБЛ\n"
     ]
    }
   ],
   "source": [
    "function main()\n",
    "    text1 = \"ПРИКАЗ\"\n",
    "    key = \"ГАММА\"\n",
    "    println(\"Текст:\", text1)\n",
    "    println(\"Ключ:\", key)\n",
    "    println(\"Криптограмма:\", encrypt(text1, key))\n",
    "end\n",
    "\n",
    "main()"
   ]
  },
  {
   "cell_type": "code",
   "execution_count": null,
   "id": "df9c442e-07a7-4464-9e99-444d63084ec6",
   "metadata": {},
   "outputs": [],
   "source": []
  }
 ],
 "metadata": {
  "kernelspec": {
   "display_name": "Julia 1.11.1",
   "language": "julia",
   "name": "julia-1.11"
  },
  "language_info": {
   "file_extension": ".jl",
   "mimetype": "application/julia",
   "name": "julia",
   "version": "1.11.1"
  }
 },
 "nbformat": 4,
 "nbformat_minor": 5
}
